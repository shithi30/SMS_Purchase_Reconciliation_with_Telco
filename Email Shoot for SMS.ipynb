{
 "cells": [
  {
   "cell_type": "code",
   "execution_count": 1,
   "metadata": {},
   "outputs": [],
   "source": [
    "import smtplib\n",
    "from email.mime.text import MIMEText\n",
    "from email.mime.multipart import MIMEMultipart\n",
    "from pretty_html_table import build_table\n",
    "\n",
    "import psycopg2\n",
    "from configparser import ConfigParser\n",
    "\n",
    "import numpy as np\n",
    "import pandas as pd\n",
    "import math\n",
    "from sqlalchemy import create_engine\n",
    "from psycopg2 import Error"
   ]
  },
  {
   "cell_type": "code",
   "execution_count": 2,
   "metadata": {},
   "outputs": [
    {
     "name": "stdout",
     "output_type": "stream",
     "text": [
      "Data generated for 1 month.\n",
      "Data summarized for 1 month.\n",
      "\n",
      "PostgreSQL connection is safely closed.\n"
     ]
    }
   ],
   "source": [
    "try:\n",
    "    # connecting to DB\n",
    "    connection=psycopg2.connect(user=\"shithi\", password=\"tallykhata03012021_1234\", host=\"192.168.168.52\", port=\"5432\", database=\"tallykhata\")\n",
    "    cursor=connection.cursor()\n",
    "    \n",
    "    # extracting data\n",
    "\n",
    "    postgres_query='''drop table if exists data_vajapora.sms_help;'''\n",
    "    cursor.execute(postgres_query)\n",
    "    connection.commit()\n",
    "    \n",
    "    postgres_query='''\n",
    "    create table data_vajapora.sms_help as \n",
    "    select\n",
    "        to_char(to_char(current_date, 'YYYY-MM-01')::date-15, 'Mon-YYYY') as year_month,\n",
    "        count(case when s.telco_identifier_id in(61, 62) and lower(s.message_body) like '%verification code%' then s.id end) as GP_otp_sms_cnt,\n",
    "        count(case when s.telco_identifier_id in(61, 62) and lower(s.message_body) not like '%verification code%' then s.id end) as GP_txn_sms_cnt,\n",
    "        count(case when s.telco_identifier_id in(49) and lower(s.message_body) like '%verification code%' then s.id end) as Mobireach_otp_sms_cnt,\n",
    "        count(case when s.telco_identifier_id in(49) and lower(s.message_body) not like '%verification code%' then s.id end) as Mobireach_txn_sms_cnt,\n",
    "        count(case when s.telco_identifier_id in(64, 66) and lower(s.message_body) like '%verification code%' then s.id end) as Banglalink_otp_sms_cnt,\n",
    "        count(case when s.telco_identifier_id in(64, 66) and lower(s.message_body) not like '%verification code%' then s.id end) as Banglalink_txn_sms_cnt\n",
    "    from public.t_scsms_message_archive_v2 as s\n",
    "    where\n",
    "        upper(s.channel) in('TALLYKHATA_OTP','TALLYKHATA_TXN') and upper(trim(s.bank_name)) = 'SURECASH'\n",
    "        and s.telco_identifier_id in(66, 64,61,62,49) and upper(s.message_status) in ('SUCCESS','0')\n",
    "        and to_char(s.request_time::date, 'YYYY-MM')=to_char(to_char(current_date, 'YYYY-MM-01')::date-15, 'YYYY-MM');\n",
    "    '''\n",
    "    cursor.execute(postgres_query)\n",
    "    connection.commit()\n",
    "    \n",
    "    print(\"Data generated for 1 month.\")\n",
    "    \n",
    "    postgres_query='''\n",
    "    -- summarized data 1\n",
    "    select 'activity month' \"Details\", year_month::text \"Value\" from data_vajapora.sms_help\n",
    "    -- total SMS\n",
    "    union select 'total OTP SMS count' \"Details\", trim(to_char(GP_otp_sms_cnt+Mobireach_otp_sms_cnt+Banglalink_otp_sms_cnt, '999G999G999G999G999G999G999')) \"Value\" from data_vajapora.sms_help\n",
    "    union select 'total txn SMS count' \"Details\", trim(to_char(GP_txn_sms_cnt+Mobireach_txn_sms_cnt+Banglalink_txn_sms_cnt, '999G999G999G999G999G999G999')) \"Value\" from data_vajapora.sms_help\n",
    "    order by 1 asc; \n",
    "    '''\n",
    "    cursor.execute(postgres_query)\n",
    "    colnames=[desc[0] for desc in cursor.description]\n",
    "    df_fetched=pd.DataFrame(cursor.fetchall(), columns=colnames)\n",
    "    df_fetched1=build_table(df_fetched, 'blue_light')\n",
    "    \n",
    "    postgres_query='''\n",
    "    -- summarized data 2\n",
    "    select 'activity month' \"Details\", year_month::text \"Value\" from data_vajapora.sms_help\n",
    "    -- GP\n",
    "    union select 'GP total SMS count' \"Details\", trim(to_char(GP_otp_sms_cnt+GP_txn_sms_cnt, '999G999G999G999G999G999G999')) \"Value\" from data_vajapora.sms_help\n",
    "    union select 'GP OTP SMS count' \"Details\", trim(to_char(GP_otp_sms_cnt, '999G999G999G999G999G999G999')) \"Value\" from data_vajapora.sms_help\n",
    "    union select 'GP txn SMS count' \"Details\", trim(to_char(GP_txn_sms_cnt, '999G999G999G999G999G999G999')) \"Value\" from data_vajapora.sms_help\n",
    "    -- Mobireach\n",
    "    union select 'Mobireach total SMS count' \"Details\", trim(to_char(Mobireach_otp_sms_cnt+Mobireach_txn_sms_cnt, '999G999G999G999G999G999G999')) \"Value\" from data_vajapora.sms_help\n",
    "    union select 'Mobireach OTP SMS count' \"Details\", trim(to_char(Mobireach_otp_sms_cnt, '999G999G999G999G999G999G999')) \"Value\" from data_vajapora.sms_help\n",
    "    union select 'Mobireach txn SMS count' \"Details\", trim(to_char(Mobireach_txn_sms_cnt, '999G999G999G999G999G999G999')) \"Value\" from data_vajapora.sms_help\n",
    "    -- Banglalink\n",
    "    union select 'Banglalink total SMS count' \"Details\", trim(to_char(Banglalink_otp_sms_cnt+Banglalink_txn_sms_cnt, '999G999G999G999G999G999G999')) \"Value\" from data_vajapora.sms_help\n",
    "    union select 'Banglalink OTP SMS count' \"Details\", trim(to_char(Banglalink_otp_sms_cnt, '999G999G999G999G999G999G999')) \"Value\" from data_vajapora.sms_help\n",
    "    union select 'Banglalink txn SMS count' \"Details\", trim(to_char(Banglalink_txn_sms_cnt, '999G999G999G999G999G999G999')) \"Value\" from data_vajapora.sms_help\n",
    "    order by 1 asc;  \n",
    "    '''\n",
    "    cursor.execute(postgres_query)\n",
    "    colnames=[desc[0] for desc in cursor.description]\n",
    "    df_fetched=pd.DataFrame(cursor.fetchall(), columns=colnames)\n",
    "    df_fetched2=build_table(df_fetched, 'blue_light')\n",
    "    \n",
    "    print(\"Data summarized for 1 month.\")\n",
    "    \n",
    "# handling exception\n",
    "except (Exception, psycopg2.Error) as error:\n",
    "    print(\"Error!\", error)\n",
    "    \n",
    "# closing connection to DB\n",
    "finally:\n",
    "    if(connection):\n",
    "        cursor.close()\n",
    "        connection.close()\n",
    "        print(\"\\nPostgreSQL connection is safely closed.\")"
   ]
  },
  {
   "cell_type": "code",
   "execution_count": 7,
   "metadata": {},
   "outputs": [],
   "source": [
    "def send_mail():\n",
    "\n",
    "    message = MIMEMultipart()\n",
    "\n",
    "    # subject, from, to \n",
    "    message['Subject'] = 'Monthly SMS Report'\n",
    "    message['From'] = 'shithi.maitra@surecash.net'\n",
    "    To_receiver = ['hasibsiddique@surecash.net']\n",
    "    Cc_receiver = ['fahim.wahid@surecash.net', 'data@surecash.net', 'khalid@surecash.net', 'awlad@surecash.net']                        \n",
    "\n",
    "    message['To'] = \";\".join(To_receiver)\n",
    "    message['Cc'] = \";\".join(Cc_receiver)\n",
    "    receiver = To_receiver + Cc_receiver\n",
    "\n",
    "    body = f'''\n",
    "     Hello Bhaiya,<br><br>\n",
    "     Please find below last month's SMS consumption summary by TallyKhata.<br>\n",
    "     '''+df_fetched1+'''\n",
    "     Also find below breakdown of last month's SMS consumptions by different operators.<br>\n",
    "     '''+df_fetched2+'''\n",
    "     Thanks,<br>\n",
    "     Data and BI, TallyKhata\n",
    "    '''\n",
    "    message.attach(MIMEText(body, \"html\"))\n",
    "    msg_body = message.as_string()\n",
    "\n",
    "    connection=smtplib.SMTP('smtp.gmail.com', 587)\n",
    "    connection.ehlo()       # identifying ourselves with the mail server we're using\n",
    "    connection.starttls()   # encrypting the trafic\n",
    "    connection.ehlo()       # re-identifying ourselves as an encrypted connection\n",
    "\n",
    "    # connection.login('shithi.maitra@surecash.net', 'Maitra300795') # logging in\n",
    "    connection.login('shithi.maitra@surecash.net', 'eysbrqowefwxluyz') # logging in with 'generated app password'\n",
    "    connection.sendmail(message['From'], receiver, msg_body)\n",
    "    connection.quit()\n",
    "    print(\"Mail sent successfully.\")\n"
   ]
  },
  {
   "cell_type": "code",
   "execution_count": 8,
   "metadata": {},
   "outputs": [
    {
     "name": "stdout",
     "output_type": "stream",
     "text": [
      "Mail sent successfully.\n"
     ]
    }
   ],
   "source": [
    "send_mail()"
   ]
  },
  {
   "cell_type": "code",
   "execution_count": null,
   "metadata": {},
   "outputs": [],
   "source": []
  }
 ],
 "metadata": {
  "kernelspec": {
   "display_name": "Python 3",
   "language": "python",
   "name": "python3"
  },
  "language_info": {
   "codemirror_mode": {
    "name": "ipython",
    "version": 3
   },
   "file_extension": ".py",
   "mimetype": "text/x-python",
   "name": "python",
   "nbconvert_exporter": "python",
   "pygments_lexer": "ipython3",
   "version": "3.7.7"
  }
 },
 "nbformat": 4,
 "nbformat_minor": 4
}
